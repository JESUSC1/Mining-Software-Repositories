{
 "cells": [
  {
   "cell_type": "code",
   "execution_count": 9,
   "id": "211555cb-15c4-4e53-8f87-dca56ddefe27",
   "metadata": {},
   "outputs": [
    {
     "name": "stdout",
     "output_type": "stream",
     "text": [
      "Processing repository swift-argument-parser...\n",
      "Finished processing repository swift-argument-parser.\n"
     ]
    }
   ],
   "source": [
    "\"\"\"\n",
    "This code reads in data from a CSV file containing commit information for a given repository. \n",
    "It calculates the number of lines of code added or removed in each commit, \n",
    "and uses that information to compute the size of the repository at the time of each commit. \n",
    "The repo size is calculated by dividing the total number of lines of code by the number of files in the repository. \n",
    "The resulting CSV file includes columns for the repository name, repository owner, commit ID,\n",
    "committer name, commit date, code size in lines of code (LOC), \n",
    "and repository size in lines of code per file (LOC/file). The code and repo size are measured in lines of code.\n",
    "\n",
    "Script Author: Jesus Cantu \n",
    "\"\"\"\n",
    "\n",
    "import csv\n",
    "\n",
    "file_name = '/Users/jesuscantu/Desktop/Workspace/MiningSoftwareRepositories/Raw_Data/Commits/swift-argument-parser_commit_data.csv' # path to commit data \n",
    "repo_owner = 'apple' # 'repo_owner'\n",
    "repo_name = 'swift-argument-parser' # 'repo_name'\n",
    "\n",
    "print(f\"Processing repository {repo_name}...\")\n",
    "\n",
    "# Define the header row for the CSV file\n",
    "header_row = ['repo_name', 'repo_owner', 'commit_id', 'committer_name', 'date', 'code_size_LOC', 'repo_size_LOC']\n",
    "\n",
    "# Initialize an empty list to store the rows of the CSV file\n",
    "rows = []\n",
    "\n",
    "with open(file_name, 'r') as csv_file:\n",
    "    reader = csv.DictReader(csv_file)\n",
    "    for row in reader:\n",
    "        # Calculate code size for the commit\n",
    "        code_size_LOC = int(row['num_inserts']) - int(row['num_deletes']) + int(row['net_lines'])\n",
    "\n",
    "        # Calculate repo size for the commit\n",
    "        num_files = int(row['num_files'])\n",
    "        if num_files > 0:\n",
    "            repo_size_LOC = round(code_size_LOC / num_files, 2)\n",
    "        else:\n",
    "            repo_size_LOC = 0\n",
    "\n",
    "        # Add row to the list of rows\n",
    "        rows.append([repo_name, repo_owner, row['commit_id'], row['committer_name'], row['author_date'], code_size_LOC, repo_size_LOC])\n",
    "\n",
    "# Write the results to a new CSV file\n",
    "filename = f\"{repo_name}-code_size_data.csv\"\n",
    "output_file = f\"/Users/jesuscantu/Desktop/Workspace/MiningSoftwareRepositories/Raw_Data/Commits/Code_Size/{filename}\"\n",
    "\n",
    "with open(output_file, mode='w', newline='') as csv_file:\n",
    "    writer = csv.writer(csv_file)\n",
    "    writer.writerow(header_row)\n",
    "    for row in rows:\n",
    "        writer.writerow(row)\n",
    "\n",
    "print(f\"Finished processing repository {repo_name}.\")\n"
   ]
  },
  {
   "cell_type": "code",
   "execution_count": null,
   "id": "994a8f3c-8fd4-4b63-80ca-ff97af711008",
   "metadata": {},
   "outputs": [],
   "source": []
  }
 ],
 "metadata": {
  "kernelspec": {
   "display_name": "Python 3 (ipykernel)",
   "language": "python",
   "name": "python3"
  },
  "language_info": {
   "codemirror_mode": {
    "name": "ipython",
    "version": 3
   },
   "file_extension": ".py",
   "mimetype": "text/x-python",
   "name": "python",
   "nbconvert_exporter": "python",
   "pygments_lexer": "ipython3",
   "version": "3.9.13"
  }
 },
 "nbformat": 4,
 "nbformat_minor": 5
}
