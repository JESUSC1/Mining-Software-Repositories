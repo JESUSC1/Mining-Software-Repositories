{
 "cells": [
  {
   "cell_type": "code",
   "execution_count": 48,
   "id": "681081e2-d7a5-475c-a672-12c79d1cebd1",
   "metadata": {},
   "outputs": [
    {
     "name": "stdout",
     "output_type": "stream",
     "text": [
      "[('pH-7', 'Simple-Java-Calculator'), ('Anuken', 'Mindustry'), ('numpy', 'numpy'), ('apple', 'swift-argument-parser'), ('matplotlib', 'matplotlib')]\n"
     ]
    }
   ],
   "source": [
    "import os\n",
    "\n",
    "\"\"\"\n",
    "Part 4:\n",
    "This code aims to create a two axis graph that compares the issue\n",
    "density and code size over time. The issues are considered to be\n",
    "those which are opened at the particular time in question.\n",
    "\"\"\"\n",
    "\n",
    "rawDataDirectory = '/home/jovyan/Raw_Data/'\n",
    "plotDirectory = '~/Generated_Plots/CodeSizeVsIssues/'\n",
    "repos = []\n",
    "\n",
    "# Iterate through CSV files where we have commit data, then get rid of everything in the file name except for the project name\n",
    "for file in os.listdir(rawDataDirectory + 'Commits'):\n",
    "    if file.endswith('.csv'):\n",
    "        partitions = file.partition(\"_\")\n",
    "        repos.append((partitions[0], partitions[2].partition(\"_\")[0]))\n",
    "        \n",
    "        \n",
    "print(repos)"
   ]
  },
  {
   "cell_type": "code",
   "execution_count": 42,
   "id": "52781b8f-e5f3-4e2c-92c4-e51d2d82a829",
   "metadata": {},
   "outputs": [
    {
     "name": "stdout",
     "output_type": "stream",
     "text": [
      "['pH-7_Simple-Java-Calculator_commit.csv', 'Anuken_Mindustry_commit.csv', 'numpy_numpy_commit.csv', 'apple_swift-argument-parser_commit.csv', 'matplotlib_matplotlib_commit.csv', 'Simple-Java-Calculator_issues.csv', 'Mindustry_issues.csv', 'numpy_issues.csv', 'swift-argument-parser_issues.csv', 'matplotlib_issues.csv']\n"
     ]
    }
   ],
   "source": [
    "# Assemble filenames based on the established convention\n",
    "commitFiles = []\n",
    "issueFiles = []\n",
    "files = []\n",
    "\n",
    "for repo in repos:\n",
    "    issueFiles.append(repo[1]+'_issues.csv')\n",
    "    commitFiles.append(repo[0]+'_'+repo[1]+'_commit.csv')\n",
    "    \n",
    "files = commitFiles + issueFiles\n",
    "print(files)"
   ]
  },
  {
   "cell_type": "code",
   "execution_count": 46,
   "id": "5b5abf93-c84c-4d22-ad0f-98a5a11f6e1f",
   "metadata": {},
   "outputs": [
    {
     "ename": "NameError",
     "evalue": "name 'pd' is not defined",
     "output_type": "error",
     "traceback": [
      "\u001b[0;31m---------------------------------------------------------------------------\u001b[0m",
      "\u001b[0;31mNameError\u001b[0m                                 Traceback (most recent call last)",
      "Cell \u001b[0;32mIn[46], line 1\u001b[0m\n\u001b[0;32m----> 1\u001b[0m test \u001b[38;5;241m=\u001b[39m \u001b[43mpd\u001b[49m\u001b[38;5;241m.\u001b[39mread_csv(\u001b[38;5;124mf\u001b[39m\u001b[38;5;124m\"\u001b[39m\u001b[38;5;132;01m{\u001b[39;00mrawDataDirectory\u001b[38;5;132;01m}\u001b[39;00m\u001b[38;5;124m/\u001b[39m\u001b[38;5;132;01m{\u001b[39;00missueFiles[\u001b[38;5;241m0\u001b[39m]\u001b[38;5;132;01m}\u001b[39;00m\u001b[38;5;124m\"\u001b[39m)\n\u001b[1;32m      2\u001b[0m test\u001b[38;5;241m.\u001b[39mhead(\u001b[38;5;241m10\u001b[39m)\n",
      "\u001b[0;31mNameError\u001b[0m: name 'pd' is not defined"
     ]
    }
   ],
   "source": [
    "test = pandas.read_csv(f\"{rawDataDirectory}/{issueFiles[0]}\")\n",
    "test.head(10)"
   ]
  },
  {
   "cell_type": "code",
   "execution_count": null,
   "id": "cc81b18a-b9c6-4bf3-860e-290442f99412",
   "metadata": {},
   "outputs": [],
   "source": []
  }
 ],
 "metadata": {
  "kernelspec": {
   "display_name": "Python 3 (ipykernel)",
   "language": "python",
   "name": "python3"
  },
  "language_info": {
   "codemirror_mode": {
    "name": "ipython",
    "version": 3
   },
   "file_extension": ".py",
   "mimetype": "text/x-python",
   "name": "python",
   "nbconvert_exporter": "python",
   "pygments_lexer": "ipython3",
   "version": "3.10.9"
  }
 },
 "nbformat": 4,
 "nbformat_minor": 5
}
